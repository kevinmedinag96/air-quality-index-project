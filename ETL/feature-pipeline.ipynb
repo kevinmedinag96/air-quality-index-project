{
 "cells": [
  {
   "cell_type": "markdown",
   "id": "45ba075c-58c8-4886-9872-48df9a28cfc0",
   "metadata": {},
   "source": [
    "ETL - Air Quality Index - aqicn.org"
   ]
  },
  {
   "cell_type": "markdown",
   "id": "378c49a8-1751-46d6-a7e6-dc30816390cf",
   "metadata": {},
   "source": [
    "This notebook contains the code to extract Air Quality Index data from desired geolocation.\n",
    "First, we will connect to aqicn API and extract the data using REST.\n",
    "Second, we are going to convert the input dictionary into a dataframe.\n",
    "Third, we are going to load the processed data in a sagemaker feature store or DynamoDB"
   ]
  },
  {
   "cell_type": "markdown",
   "id": "18e46f6b-215c-491b-a4a4-b1a86387e3f5",
   "metadata": {},
   "source": [
    "# Extract"
   ]
  },
  {
   "cell_type": "code",
   "execution_count": 23,
   "id": "d758252f-9e30-48f0-95c8-f46ca9dadc9d",
   "metadata": {},
   "outputs": [],
   "source": [
    "import pandas as pd\n",
    "import requests\n",
    "from datetime import datetime\n",
    "import pytz\n",
    "import boto3\n",
    "from decimal import Decimal"
   ]
  },
  {
   "cell_type": "code",
   "execution_count": 3,
   "id": "aa199f8e-dc50-47b5-93c9-abbc613d472c",
   "metadata": {},
   "outputs": [],
   "source": [
    "response= requests.get(\n",
    "    url=\"https://api.waqi.info/feed/shanghai\",\n",
    "    params={\n",
    "        \"token\": \"4160d19c73429aaee7d89467b128c082b3c6b868\"\n",
    "    }\n",
    ").json()"
   ]
  },
  {
   "cell_type": "code",
   "execution_count": 5,
   "id": "4bd0f52e-543a-470b-874c-bed26e21edd7",
   "metadata": {},
   "outputs": [
    {
     "data": {
      "text/plain": [
       "{'status': 'ok',\n",
       " 'data': {'aqi': 46,\n",
       "  'idx': 1437,\n",
       "  'attributions': [{'url': 'http://106.37.208.233:20035/emcpublish/',\n",
       "    'name': 'China National Urban air quality real-time publishing platform (全国城市空气质量实时发布平台)'},\n",
       "   {'url': 'https://china.usembassy-china.org.cn/embassy-consulates/shanghai/air-quality-monitor-stateair/',\n",
       "    'name': 'U.S. Consulate Shanghai Air Quality Monitor'},\n",
       "   {'url': 'https://sthj.sh.gov.cn/',\n",
       "    'name': 'Shanghai Environment Monitoring Center(上海市环境监测中心)'},\n",
       "   {'url': 'https://waqi.info/', 'name': 'World Air Quality Index Project'}],\n",
       "  'city': {'geo': [31.2047372, 121.4489017],\n",
       "   'name': 'Shanghai (上海)',\n",
       "   'url': 'https://aqicn.org/city/shanghai',\n",
       "   'location': ''},\n",
       "  'dominentpol': 'pm25',\n",
       "  'iaqi': {'co': {'v': 3.7},\n",
       "   'h': {'v': 72},\n",
       "   'no2': {'v': 13.3},\n",
       "   'o3': {'v': 30.9},\n",
       "   'p': {'v': 1020},\n",
       "   'pm10': {'v': 18},\n",
       "   'pm25': {'v': 46},\n",
       "   'so2': {'v': 3.6},\n",
       "   't': {'v': 15},\n",
       "   'w': {'v': 2.5}},\n",
       "  'time': {'s': '2024-10-29 21:00:00',\n",
       "   'tz': '+08:00',\n",
       "   'v': 1730235600,\n",
       "   'iso': '2024-10-29T21:00:00+08:00'},\n",
       "  'forecast': {'daily': {'o3': [{'avg': 4,\n",
       "      'day': '2024-10-27',\n",
       "      'max': 7,\n",
       "      'min': 1},\n",
       "     {'avg': 3, 'day': '2024-10-28', 'max': 7, 'min': 2},\n",
       "     {'avg': 3, 'day': '2024-10-29', 'max': 8, 'min': 2},\n",
       "     {'avg': 4, 'day': '2024-10-30', 'max': 7, 'min': 4},\n",
       "     {'avg': 5, 'day': '2024-10-31', 'max': 6, 'min': 4},\n",
       "     {'avg': 4, 'day': '2024-11-01', 'max': 5, 'min': 4},\n",
       "     {'avg': 5, 'day': '2024-11-02', 'max': 6, 'min': 4},\n",
       "     {'avg': 3, 'day': '2024-11-03', 'max': 4, 'min': 2}],\n",
       "    'pm10': [{'avg': 46, 'day': '2024-10-27', 'max': 46, 'min': 46},\n",
       "     {'avg': 55, 'day': '2024-10-28', 'max': 70, 'min': 46},\n",
       "     {'avg': 51, 'day': '2024-10-29', 'max': 73, 'min': 19},\n",
       "     {'avg': 52, 'day': '2024-10-30', 'max': 59, 'min': 28},\n",
       "     {'avg': 52, 'day': '2024-10-31', 'max': 59, 'min': 28},\n",
       "     {'avg': 21, 'day': '2024-11-01', 'max': 40, 'min': 19},\n",
       "     {'avg': 48, 'day': '2024-11-02', 'max': 58, 'min': 19},\n",
       "     {'avg': 114, 'day': '2024-11-03', 'max': 174, 'min': 58},\n",
       "     {'avg': 71, 'day': '2024-11-04', 'max': 123, 'min': 46}],\n",
       "    'pm25': [{'avg': 138, 'day': '2024-10-27', 'max': 138, 'min': 138},\n",
       "     {'avg': 137, 'day': '2024-10-28', 'max': 160, 'min': 89},\n",
       "     {'avg': 139, 'day': '2024-10-29', 'max': 171, 'min': 68},\n",
       "     {'avg': 135, 'day': '2024-10-30', 'max': 159, 'min': 68},\n",
       "     {'avg': 117, 'day': '2024-10-31', 'max': 159, 'min': 68},\n",
       "     {'avg': 70, 'day': '2024-11-01', 'max': 91, 'min': 44},\n",
       "     {'avg': 114, 'day': '2024-11-02', 'max': 159, 'min': 68},\n",
       "     {'avg': 205, 'day': '2024-11-03', 'max': 252, 'min': 138},\n",
       "     {'avg': 154, 'day': '2024-11-04', 'max': 252, 'min': 68}],\n",
       "    'uvi': [{'avg': 2, 'day': '2024-10-29', 'max': 5, 'min': 0},\n",
       "     {'avg': 1, 'day': '2024-10-30', 'max': 3, 'min': 0},\n",
       "     {'avg': 1, 'day': '2024-10-31', 'max': 3, 'min': 0},\n",
       "     {'avg': 0, 'day': '2024-11-01', 'max': 1, 'min': 0},\n",
       "     {'avg': 1, 'day': '2024-11-02', 'max': 4, 'min': 0},\n",
       "     {'avg': 0, 'day': '2024-11-03', 'max': 1, 'min': 0}]}},\n",
       "  'debug': {'sync': '2024-10-29T22:29:17+09:00'}}}"
      ]
     },
     "execution_count": 5,
     "metadata": {},
     "output_type": "execute_result"
    }
   ],
   "source": [
    "response"
   ]
  },
  {
   "cell_type": "code",
   "execution_count": 70,
   "id": "042db0d5-71e8-4f8f-ac70-a0c691fb666a",
   "metadata": {},
   "outputs": [],
   "source": [
    "response= requests.get(\n",
    "    url=\"https://api.waqi.info/feed/geo:19.42673333;-99.12543333/\",\n",
    "    params={\n",
    "        \"token\": \"4160d19c73429aaee7d89467b128c082b3c6b868\"\n",
    "    }\n",
    ").json()"
   ]
  },
  {
   "cell_type": "code",
   "execution_count": 71,
   "id": "ee5356ea-fcb3-44ec-b475-a84d5871bc05",
   "metadata": {},
   "outputs": [
    {
     "data": {
      "text/plain": [
       "{'status': 'ok',\n",
       " 'data': {'aqi': 85,\n",
       "  'idx': 404,\n",
       "  'attributions': [{'url': 'http://www.aire.df.gob.mx/',\n",
       "    'name': 'SINAICA - Sistema Nacional de Información de la Calidad del Aire en Mexico',\n",
       "    'logo': 'Mexico-CuidaMexico.png'},\n",
       "   {'url': 'http://sinaica.inecc.gob.mx/',\n",
       "    'name': 'INECC - Instituto Nacional de Ecolog&iacute;a y Cambio Clim&aacute;tico',\n",
       "    'logo': 'Mexico-INECC.png'},\n",
       "   {'url': 'https://waqi.info/', 'name': 'World Air Quality Index Project'}],\n",
       "  'city': {'geo': [19.42461, -99.119594],\n",
       "   'name': 'Merced, México, Mexico',\n",
       "   'url': 'https://aqicn.org/city/mexico/mexico/merced',\n",
       "   'location': ''},\n",
       "  'dominentpol': 'pm25',\n",
       "  'iaqi': {'co': {'v': 8.9},\n",
       "   'dew': {'v': 10},\n",
       "   'h': {'v': 87},\n",
       "   'no2': {'v': 24.1},\n",
       "   'o3': {'v': 0.8},\n",
       "   'p': {'v': 1027},\n",
       "   'pm10': {'v': 42},\n",
       "   'pm25': {'v': 85},\n",
       "   'so2': {'v': 8.6},\n",
       "   't': {'v': 12},\n",
       "   'w': {'v': 3}},\n",
       "  'time': {'s': '2024-10-29 06:00:00',\n",
       "   'tz': '-06:00',\n",
       "   'v': 1730181600,\n",
       "   'iso': '2024-10-29T06:00:00-06:00'},\n",
       "  'forecast': {'daily': {'o3': [{'avg': 8,\n",
       "      'day': '2024-10-27',\n",
       "      'max': 19,\n",
       "      'min': 5},\n",
       "     {'avg': 6, 'day': '2024-10-28', 'max': 30, 'min': 2},\n",
       "     {'avg': 10, 'day': '2024-10-29', 'max': 57, 'min': 1},\n",
       "     {'avg': 16, 'day': '2024-10-30', 'max': 89, 'min': 1},\n",
       "     {'avg': 21, 'day': '2024-10-31', 'max': 83, 'min': 1},\n",
       "     {'avg': 9, 'day': '2024-11-01', 'max': 49, 'min': 1},\n",
       "     {'avg': 9, 'day': '2024-11-02', 'max': 33, 'min': 1}],\n",
       "    'pm10': [{'avg': 14, 'day': '2024-10-27', 'max': 18, 'min': 6},\n",
       "     {'avg': 56, 'day': '2024-10-28', 'max': 123, 'min': 12},\n",
       "     {'avg': 92, 'day': '2024-10-29', 'max': 119, 'min': 40},\n",
       "     {'avg': 105, 'day': '2024-10-30', 'max': 138, 'min': 42},\n",
       "     {'avg': 105, 'day': '2024-10-31', 'max': 151, 'min': 55},\n",
       "     {'avg': 72, 'day': '2024-11-01', 'max': 94, 'min': 52},\n",
       "     {'avg': 44, 'day': '2024-11-02', 'max': 64, 'min': 22}],\n",
       "    'pm25': [{'avg': 45, 'day': '2024-10-27', 'max': 56, 'min': 17},\n",
       "     {'avg': 117, 'day': '2024-10-28', 'max': 203, 'min': 38},\n",
       "     {'avg': 180, 'day': '2024-10-29', 'max': 200, 'min': 103},\n",
       "     {'avg': 195, 'day': '2024-10-30', 'max': 265, 'min': 113},\n",
       "     {'avg': 198, 'day': '2024-10-31', 'max': 262, 'min': 152},\n",
       "     {'avg': 166, 'day': '2024-11-01', 'max': 186, 'min': 144},\n",
       "     {'avg': 114, 'day': '2024-11-02', 'max': 155, 'min': 71}],\n",
       "    'uvi': [{'avg': 0, 'day': '2024-10-28', 'max': 0, 'min': 0},\n",
       "     {'avg': 2, 'day': '2024-10-29', 'max': 8, 'min': 0},\n",
       "     {'avg': 2, 'day': '2024-10-30', 'max': 9, 'min': 0},\n",
       "     {'avg': 2, 'day': '2024-10-31', 'max': 9, 'min': 0},\n",
       "     {'avg': 2, 'day': '2024-11-01', 'max': 8, 'min': 0},\n",
       "     {'avg': 3, 'day': '2024-11-02', 'max': 8, 'min': 0}]}},\n",
       "  'debug': {'sync': '2024-10-29T22:21:02+09:00'}}}"
      ]
     },
     "execution_count": 71,
     "metadata": {},
     "output_type": "execute_result"
    }
   ],
   "source": [
    "response"
   ]
  },
  {
   "cell_type": "markdown",
   "id": "a7888258-75bb-41d6-b4b9-2abb40cfce8a",
   "metadata": {},
   "source": [
    "# Transform"
   ]
  },
  {
   "cell_type": "markdown",
   "id": "03de0622-3de8-406a-96ee-d030fcad82bb",
   "metadata": {},
   "source": [
    "Save only the Air Quality Index for each pollutant"
   ]
  },
  {
   "cell_type": "code",
   "execution_count": 72,
   "id": "cbe31186-7533-44a6-9a7d-3bcc6d053538",
   "metadata": {},
   "outputs": [],
   "source": [
    "saved_cols = [\"co\",\"no2\",\"pm10\",\"pm25\",\"o3\",\"so2\"]"
   ]
  },
  {
   "cell_type": "code",
   "execution_count": 73,
   "id": "605fa97f-9606-44ab-8334-4602449d68d2",
   "metadata": {},
   "outputs": [
    {
     "data": {
      "text/plain": [
       "{'co': {'v': 8.9},\n",
       " 'dew': {'v': 10},\n",
       " 'h': {'v': 87},\n",
       " 'no2': {'v': 24.1},\n",
       " 'o3': {'v': 0.8},\n",
       " 'p': {'v': 1027},\n",
       " 'pm10': {'v': 42},\n",
       " 'pm25': {'v': 85},\n",
       " 'so2': {'v': 8.6},\n",
       " 't': {'v': 12},\n",
       " 'w': {'v': 3}}"
      ]
     },
     "execution_count": 73,
     "metadata": {},
     "output_type": "execute_result"
    }
   ],
   "source": [
    "pollutants = response[\"data\"][\"iaqi\"]\n",
    "pollutants"
   ]
  },
  {
   "cell_type": "code",
   "execution_count": 74,
   "id": "ed86919b-4734-4582-908d-0a28301b1dd3",
   "metadata": {},
   "outputs": [],
   "source": [
    "\n",
    "for k in pollutants.keys():\n",
    "    pollutants[k] = round(Decimal(pollutants[k][\"v\"]),3)"
   ]
  },
  {
   "cell_type": "code",
   "execution_count": 75,
   "id": "970d74d9-cd66-4bb1-b39e-08b67614e55e",
   "metadata": {},
   "outputs": [],
   "source": [
    "data_json = {name : pollutants[name] for name in saved_cols}\n",
    "data_json[\"datetime\"] = datetime.now(pytz.timezone(\"America/Mexico_City\")).strftime(\"%d/%m/%Y, %H:%M:%S\")\n",
    "\n",
    "air_data_location = \"Mexico City\"\n",
    "data_json[\"location\"] = air_data_location"
   ]
  },
  {
   "cell_type": "code",
   "execution_count": 84,
   "id": "ac6ef8a6-7942-48e0-a169-71bbebcc2ce6",
   "metadata": {},
   "outputs": [],
   "source": [
    "# get boto3 dynamoDB client for desired table\n",
    "dynamodb = boto3.resource('dynamodb')\n",
    "table = dynamodb.Table('AirQualityIndexRecords')\n",
    "\n",
    "\n",
    "\n",
    "data_json[\"id\"] = table.scan()[\"Count\"]\n"
   ]
  },
  {
   "cell_type": "code",
   "execution_count": 85,
   "id": "52f38c41-542a-4430-b13a-87a327b231ab",
   "metadata": {},
   "outputs": [
    {
     "data": {
      "text/plain": [
       "{'co': Decimal('8.900'),\n",
       " 'no2': Decimal('24.100'),\n",
       " 'pm10': Decimal('42.000'),\n",
       " 'pm25': Decimal('85.000'),\n",
       " 'o3': Decimal('0.800'),\n",
       " 'so2': Decimal('8.600'),\n",
       " 'datetime': '29/10/2024, 08:05:33',\n",
       " 'location': 'Mexico City',\n",
       " 'id': 0}"
      ]
     },
     "execution_count": 85,
     "metadata": {},
     "output_type": "execute_result"
    }
   ],
   "source": [
    "data_json"
   ]
  },
  {
   "cell_type": "markdown",
   "id": "1bd72e31-f583-4084-ad0b-a900babc0ea9",
   "metadata": {},
   "source": [
    "# Load"
   ]
  },
  {
   "cell_type": "code",
   "execution_count": 86,
   "id": "ca696350-2160-4d89-9615-5a1f4ab08735",
   "metadata": {},
   "outputs": [
    {
     "data": {
      "text/plain": [
       "{'ResponseMetadata': {'RequestId': 'LJ2Q8RVCSVJM8RJVKULD46B5RVVV4KQNSO5AEMVJF66Q9ASUAAJG',\n",
       "  'HTTPStatusCode': 200,\n",
       "  'HTTPHeaders': {'server': 'Server',\n",
       "   'date': 'Tue, 29 Oct 2024 14:07:08 GMT',\n",
       "   'content-type': 'application/x-amz-json-1.0',\n",
       "   'content-length': '2',\n",
       "   'connection': 'keep-alive',\n",
       "   'x-amzn-requestid': 'LJ2Q8RVCSVJM8RJVKULD46B5RVVV4KQNSO5AEMVJF66Q9ASUAAJG',\n",
       "   'x-amz-crc32': '2745614147'},\n",
       "  'RetryAttempts': 0}}"
      ]
     },
     "execution_count": 86,
     "metadata": {},
     "output_type": "execute_result"
    }
   ],
   "source": [
    "table.put_item(\n",
    "    Item=data_json\n",
    ")"
   ]
  },
  {
   "cell_type": "code",
   "execution_count": 94,
   "id": "46252dfa-b0fe-43f8-af6d-874735905f66",
   "metadata": {},
   "outputs": [
    {
     "data": {
      "text/plain": [
       "{'Item': {'no2': Decimal('24.1'),\n",
       "  'datetime': '29/10/2024, 08:05:33',\n",
       "  'location': 'Mexico City',\n",
       "  'pm25': Decimal('85'),\n",
       "  'o3': Decimal('0.8'),\n",
       "  'so2': Decimal('8.6'),\n",
       "  'id': Decimal('0'),\n",
       "  'co': Decimal('8.9'),\n",
       "  'pm10': Decimal('42')},\n",
       " 'ResponseMetadata': {'RequestId': 'PM9RGTDV1H6GBDTOG85PFL8GMBVV4KQNSO5AEMVJF66Q9ASUAAJG',\n",
       "  'HTTPStatusCode': 200,\n",
       "  'HTTPHeaders': {'server': 'Server',\n",
       "   'date': 'Tue, 29 Oct 2024 14:11:03 GMT',\n",
       "   'content-type': 'application/x-amz-json-1.0',\n",
       "   'content-length': '203',\n",
       "   'connection': 'keep-alive',\n",
       "   'x-amzn-requestid': 'PM9RGTDV1H6GBDTOG85PFL8GMBVV4KQNSO5AEMVJF66Q9ASUAAJG',\n",
       "   'x-amz-crc32': '2591864421'},\n",
       "  'RetryAttempts': 0}}"
      ]
     },
     "execution_count": 94,
     "metadata": {},
     "output_type": "execute_result"
    }
   ],
   "source": [
    "table.get_item(\n",
    "    Key={\"id\" : 0, \"location\" : \"Mexico City\"}\n",
    ")"
   ]
  },
  {
   "cell_type": "code",
   "execution_count": null,
   "id": "0ffe945e-7ee5-4bae-9382-5deb02083cc2",
   "metadata": {},
   "outputs": [],
   "source": []
  }
 ],
 "metadata": {
  "kernelspec": {
   "display_name": "Python 3 (ipykernel)",
   "language": "python",
   "name": "python3"
  },
  "language_info": {
   "codemirror_mode": {
    "name": "ipython",
    "version": 3
   },
   "file_extension": ".py",
   "mimetype": "text/x-python",
   "name": "python",
   "nbconvert_exporter": "python",
   "pygments_lexer": "ipython3",
   "version": "3.11.9"
  }
 },
 "nbformat": 4,
 "nbformat_minor": 5
}
